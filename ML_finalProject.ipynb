{
  "cells": [
    {
      "cell_type": "markdown",
      "metadata": {
        "id": "view-in-github",
        "colab_type": "text"
      },
      "source": [
        "<a href=\"https://colab.research.google.com/github/priyanshukr0103/Fake-News-Detection-using-Machine-Learning/blob/main/ML_finalProject.ipynb\" target=\"_parent\"><img src=\"https://colab.research.google.com/assets/colab-badge.svg\" alt=\"Open In Colab\"/></a>"
      ]
    },
    {
      "cell_type": "markdown",
      "source": [
        "# **Introduction**\n",
        "\n",
        "In today’s fast-paced digital world, spreading fake news has become a significant concern. With the increasing ease of access to social media platforms and other online sources of information, it has become more challenging to distinguish between real and fake news. In this project-based article, we will learn how to build a machine-learning model to detect fake news accurately."
      ],
      "metadata": {
        "id": "fZ79IwQ7sILL"
      }
    },
    {
      "cell_type": "markdown",
      "source": [
        "The steps we will follow in this project are:\n",
        "\n",
        "1. Data collection and exploration\n",
        "2. Text preprocessing\n",
        "3. Feature extraction\n",
        "4. Model training and evaluation\n",
        "5. Deployment"
      ],
      "metadata": {
        "id": "VCagiDR9sWm1"
      }
    },
    {
      "cell_type": "markdown",
      "source": [
        "# **Data Collection and Exploration**"
      ],
      "metadata": {
        "id": "u6b5KtIUsa7U"
      }
    },
    {
      "cell_type": "markdown",
      "source": [
        "For this project, we will use the Fake and Real News Dataset available on Kaggle. The dataset contains two CSV files: one with real news articles and another with fake news articles."
      ],
      "metadata": {
        "id": "XWnA7nA0sqw9"
      }
    },
    {
      "cell_type": "code",
      "execution_count": null,
      "metadata": {
        "colab": {
          "base_uri": "https://localhost:8080/"
        },
        "id": "EohO1xrNS0Co",
        "outputId": "bd5033a4-86f9-4bb1-8f5b-deccd2b0bb4d"
      },
      "outputs": [
        {
          "output_type": "stream",
          "name": "stdout",
          "text": [
            "                                               title  \\\n",
            "0  As U.S. budget fight looms, Republicans flip t...   \n",
            "1  U.S. military to accept transgender recruits o...   \n",
            "2  Senior U.S. Republican senator: 'Let Mr. Muell...   \n",
            "3  FBI Russia probe helped by Australian diplomat...   \n",
            "4  Trump wants Postal Service to charge 'much mor...   \n",
            "\n",
            "                                                text       subject  \\\n",
            "0  WASHINGTON (Reuters) - The head of a conservat...  politicsNews   \n",
            "1  WASHINGTON (Reuters) - Transgender people will...  politicsNews   \n",
            "2  WASHINGTON (Reuters) - The special counsel inv...  politicsNews   \n",
            "3  WASHINGTON (Reuters) - Trump campaign adviser ...  politicsNews   \n",
            "4  SEATTLE/WASHINGTON (Reuters) - President Donal...  politicsNews   \n",
            "\n",
            "                 date  \n",
            "0  December 31, 2017   \n",
            "1  December 29, 2017   \n",
            "2  December 31, 2017   \n",
            "3  December 30, 2017   \n",
            "4  December 29, 2017   \n",
            "                                               title  \\\n",
            "0   Donald Trump Sends Out Embarrassing New Year’...   \n",
            "1   Drunk Bragging Trump Staffer Started Russian ...   \n",
            "2   Sheriff David Clarke Becomes An Internet Joke...   \n",
            "3   Trump Is So Obsessed He Even Has Obama’s Name...   \n",
            "4   Pope Francis Just Called Out Donald Trump Dur...   \n",
            "\n",
            "                                                text subject  \\\n",
            "0  Donald Trump just couldn t wish all Americans ...    News   \n",
            "1  House Intelligence Committee Chairman Devin Nu...    News   \n",
            "2  On Friday, it was revealed that former Milwauk...    News   \n",
            "3  On Christmas day, Donald Trump announced that ...    News   \n",
            "4  Pope Francis used his annual Christmas Day mes...    News   \n",
            "\n",
            "                date  \n",
            "0  December 31, 2017  \n",
            "1  December 31, 2017  \n",
            "2  December 30, 2017  \n",
            "3  December 29, 2017  \n",
            "4  December 25, 2017  \n"
          ]
        }
      ],
      "source": [
        "import pandas as pd\n",
        "#importind the csv files\n",
        "real_news = pd.read_csv('True.csv')\n",
        "fake_news = pd.read_csv('Fake.csv')\n",
        "\n",
        "# dataframe\n",
        "print(real_news.head())\n",
        "print(fake_news.head())"
      ]
    },
    {
      "cell_type": "markdown",
      "source": [
        "As we can see, the data contains several columns: the title of the article, the text of the article, the subject of the article, and the date it was published. We will be using the title and text columns to train our model."
      ],
      "metadata": {
        "id": "uQkyRQgCs6CQ"
      }
    },
    {
      "cell_type": "markdown",
      "source": [
        "."
      ],
      "metadata": {
        "id": "nDS-Fzi7tVqk"
      }
    },
    {
      "cell_type": "markdown",
      "source": [
        "Before we can start training our model, we need to do some exploratory data analysis to get a sense of the data. We can plot the distribution of article lengths in each dataset using the following code:"
      ],
      "metadata": {
        "id": "gKRueT6TtC_D"
      }
    },
    {
      "cell_type": "code",
      "execution_count": null,
      "metadata": {
        "colab": {
          "base_uri": "https://localhost:8080/",
          "height": 472
        },
        "id": "uhFM2ZDYfRKS",
        "outputId": "eb1a0ae3-2f9f-469e-ce46-519e52a5aa78"
      },
      "outputs": [
        {
          "output_type": "display_data",
          "data": {
            "text/plain": [
              "<Figure size 640x480 with 1 Axes>"
            ],
            "image/png": "[encoded data removed]"
          },
          "metadata": {}
        }
      ],
      "source": [
        "import matplotlib.pyplot as plt\n",
        "\n",
        "real_lengths = real_news['text'].apply(len)\n",
        "fake_lengths = fake_news['text'].apply(len)\n",
        "\n",
        "plt.hist(real_lengths, bins=50, alpha=0.5, label='Real')\n",
        "plt.hist(fake_lengths, bins=50, alpha=0.5, label='Fake')\n",
        "plt.title('Article Lengths')\n",
        "plt.xlabel('Length')\n",
        "plt.ylabel('Count')\n",
        "plt.legend()\n",
        "plt.show()"
      ]
    },
    {
      "cell_type": "markdown",
      "source": [
        " ."
      ],
      "metadata": {
        "id": "pxNYPlWJtQPB"
      }
    },
    {
      "cell_type": "markdown",
      "source": [
        "We can also look at the most common words in each dataset using the following code:"
      ],
      "metadata": {
        "id": "QpxsTCZ7tNtr"
      }
    },
    {
      "cell_type": "code",
      "execution_count": null,
      "metadata": {
        "colab": {
          "base_uri": "https://localhost:8080/"
        },
        "id": "kfNmxmmofaAZ",
        "outputId": "d3722f3b-ed0b-4849-ab36-64c7b4b79b4a"
      },
      "outputs": [
        {
          "name": "stderr",
          "output_type": "stream",
          "text": [
            "[nltk_data] Downloading package stopwords to /root/nltk_data...\n",
            "[nltk_data]   Unzipping corpora/stopwords.zip.\n",
            "[nltk_data] Downloading package punkt to /root/nltk_data...\n",
            "[nltk_data]   Unzipping tokenizers/punkt.zip.\n"
          ]
        },
        {
          "name": "stdout",
          "output_type": "stream",
          "text": [
            "Real News: [('said', 99037), ('trump', 54249), ('would', 31526), ('reuters', 28412), ('president', 26397), ('state', 19728), ('government', 18288), ('new', 16784), ('house', 16519), ('states', 16515)]\n",
            "Fake News: [('trump', 74241), ('said', 31149), ('people', 26015), ('president', 25772), ('would', 23461), ('one', 22995), ('clinton', 18085), ('obama', 17920), ('like', 17660), ('donald', 17235)]\n"
          ]
        }
      ],
      "source": [
        "from collections import Counter\n",
        "import nltk\n",
        "#downloading stopwords and punkt\n",
        "nltk.download('stopwords')\n",
        "nltk.download('punkt')\n",
        "\n",
        "def get_most_common_words(texts, num_words=10):\n",
        "    all_words = []\n",
        "    for text in texts:\n",
        "        all_words.extend(nltk.word_tokenize(text.lower()))\n",
        "    stop_words = set(nltk.corpus.stopwords.words('english'))\n",
        "    words = [word for word in all_words if word.isalpha() and word not in stop_words]\n",
        "    word_counts = Counter(words)\n",
        "    return word_counts.most_common(num_words)\n",
        "\n",
        "real_words = get_most_common_words(real_news['text'])\n",
        "fake_words = get_most_common_words(fake_news['text'])\n",
        "\n",
        "print('Real News:', real_words)\n",
        "print('Fake News:', fake_words)"
      ]
    },
    {
      "cell_type": "markdown",
      "source": [
        "we can see, some of the most common words in both datasets are related to politics and the current US president, Donald Trump. However, there are some differences between the two datasets, with the fake news dataset containing more references to Hillary Clinton and a greater use of words like “like”"
      ],
      "metadata": {
        "id": "h2AfBPSVtiK_"
      }
    },
    {
      "cell_type": "markdown",
      "source": [
        "# **Text Preprocessing**\n",
        "The preprocessing steps we will perform are:\n",
        "\n",
        "1. Lowercasing the text\n",
        "2. Removing punctuation and digits\n",
        "3. Removing stop words\n",
        "4. Stemming or lemmatizing the text"
      ],
      "metadata": {
        "id": "fJWnGnvNtr_q"
      }
    },
    {
      "cell_type": "code",
      "execution_count": null,
      "metadata": {
        "colab": {
          "base_uri": "https://localhost:8080/"
        },
        "id": "1Z6_YiTugDqf",
        "outputId": "085e74fe-6f6a-47e0-a5d7-80a55afe4293"
      },
      "outputs": [
        {
          "name": "stderr",
          "output_type": "stream",
          "text": [
            "[nltk_data] Downloading package wordnet to /root/nltk_data...\n"
          ]
        }
      ],
      "source": [
        "from nltk.corpus import stopwords\n",
        "from nltk.tokenize import word_tokenize\n",
        "from nltk.stem import PorterStemmer, WordNetLemmatizer\n",
        "import string\n",
        "\n",
        "nltk.download('wordnet')\n",
        "\n",
        "stop_words = set(stopwords.words('english'))\n",
        "stemmer = PorterStemmer()\n",
        "lemmatizer = WordNetLemmatizer()\n",
        "\n",
        "def preprocess_text(text):\n",
        "    # Lowercase the text\n",
        "    text = text.lower()\n",
        "\n",
        "    # Remove punctuation and digits\n",
        "    text = text.translate(str.maketrans('', '', string.punctuation + string.digits))\n",
        "\n",
        "    # Tokenize the text\n",
        "    words = word_tokenize(text)\n",
        "\n",
        "    # Remove stop words\n",
        "    words = [word for word in words if word not in stop_words]\n",
        "\n",
        "    # Stem or lemmatize the words\n",
        "    words = [stemmer.stem(word) for word in words]\n",
        "\n",
        "        # Join the words back into a string\n",
        "    text = ' '.join(words)\n",
        "\n",
        "    return text"
      ]
    },
    {
      "cell_type": "markdown",
      "source": [
        "We can now apply this preprocessing function to each article in our datasets:"
      ],
      "metadata": {
        "id": "tJX668YGuO_v"
      }
    },
    {
      "cell_type": "code",
      "execution_count": null,
      "metadata": {
        "id": "JfwqNRBdgQ5h"
      },
      "outputs": [],
      "source": [
        "real_news['text'] = real_news['text'].apply(preprocess_text)\n",
        "fake_news['text'] = fake_news['text'].apply(preprocess_text)"
      ]
    },
    {
      "cell_type": "markdown",
      "source": [
        "# **Model Training**"
      ],
      "metadata": {
        "id": "49rG_61euQlh"
      }
    },
    {
      "cell_type": "markdown",
      "source": [
        "We will use a simple bag-of-words approach, representing each article as a vector of word frequencies. We will use the CountVectorizer class from the sklearn library to convert the preprocessed text into feature vectors.\n",
        "\n",
        "The CountVectorizer converts a collection of text documents into a matrix of token counts. It works by first tokenizing the text into words and then counting the frequency of each word in each document. The resulting matrix can be used as input to machine learning algorithms for tasks such as text classification."
      ],
      "metadata": {
        "id": "yrYYKFH-ueX_"
      }
    },
    {
      "cell_type": "code",
      "execution_count": null,
      "metadata": {
        "id": "DZjvoaLqiHe-"
      },
      "outputs": [],
      "source": [
        "from sklearn.feature_extraction.text import CountVectorizer\n",
        "import scipy.sparse as sp\n",
        "import numpy as np\n",
        "\n",
        "vectorizer = CountVectorizer()\n",
        "X_real = vectorizer.fit_transform(real_news['text'])\n",
        "X_fake = vectorizer.transform(fake_news['text'])\n",
        "\n",
        "X = sp.vstack([X_real, X_fake])\n",
        "y = np.concatenate([np.ones(X_real.shape[0]), np.zeros(X_fake.shape[0])])"
      ]
    },
    {
      "cell_type": "markdown",
      "source": [
        "Now that we have our feature and label vectors, we can split the data into training and testing sets:"
      ],
      "metadata": {
        "id": "XJt3i3kPunAE"
      }
    },
    {
      "cell_type": "code",
      "execution_count": null,
      "metadata": {
        "id": "qHKHefGfiMo_"
      },
      "outputs": [],
      "source": [
        "from sklearn.model_selection import train_test_split\n",
        "\n",
        "X_train, X_test, y_train, y_test = train_test_split(X, y, test_size=0.2, random_state=42)"
      ]
    },
    {
      "cell_type": "markdown",
      "source": [
        "We can now train our model using a logistic regression classifier:"
      ],
      "metadata": {
        "id": "kQg9eIkTupDC"
      }
    },
    {
      "cell_type": "code",
      "execution_count": null,
      "metadata": {
        "id": "GoinB92yiOCS"
      },
      "outputs": [],
      "source": [
        "from sklearn.linear_model import LogisticRegression\n",
        "\n",
        "clf = LogisticRegression(random_state=42)\n",
        "clf.fit(X_train, y_train)"
      ]
    },
    {
      "cell_type": "markdown",
      "source": [
        "# **Model Evaluation**\n",
        "\n",
        "Now that we have trained our model, we can evaluate its performance on the test set. We will use our evaluation metrics for accuracy, precision, recall, and F1 score."
      ],
      "metadata": {
        "id": "iQJrwDSYusSY"
      }
    },
    {
      "cell_type": "code",
      "execution_count": null,
      "metadata": {
        "colab": {
          "base_uri": "https://localhost:8080/"
        },
        "id": "KeLPZa_EiVRQ",
        "outputId": "38d87287-37e5-43d5-81d3-2f9e0fe6af0f"
      },
      "outputs": [
        {
          "name": "stdout",
          "output_type": "stream",
          "text": [
            "Accuracy: 0.994988864142539\n",
            "Precision: 0.9935498733010827\n",
            "Recall: 0.9960739030023095\n",
            "F1 Score: 0.9948102871641102\n"
          ]
        }
      ],
      "source": [
        "from sklearn.metrics import accuracy_score, precision_score, recall_score, f1_score\n",
        "\n",
        "y_pred = clf.predict(X_test)\n",
        "\n",
        "accuracy = accuracy_score(y_test, y_pred)\n",
        "precision = precision_score(y_test, y_pred)\n",
        "recall = recall_score(y_test, y_pred)\n",
        "f1 = f1_score(y_test, y_pred)\n",
        "\n",
        "print('Accuracy:', accuracy)\n",
        "print('Precision:', precision)\n",
        "print('Recall:', recall)\n",
        "print('F1 Score:', f1)"
      ]
    },
    {
      "cell_type": "markdown",
      "source": [
        "As we can see, our model performs very well, with an accuracy of over 99%.\n",
        "\n",
        "Our dataset achieved a test accuracy of over 99%, indicating that the model can accurately classify news articles as real or fake."
      ],
      "metadata": {
        "id": "OEWCnX2AvAop"
      }
    },
    {
      "cell_type": "markdown",
      "source": [
        "# **Improving the Model**"
      ],
      "metadata": {
        "id": "ICM5EUogvD8_"
      }
    },
    {
      "cell_type": "markdown",
      "source": [
        "While our logistic regression model achieved high accuracy on the test set, there are several ways we could potentially improve its performance:\n",
        "\n",
        "Feature engineering: Instead of using a bag-of-words approach, we could use more advanced text representations, such as word embeddings or topic models, which may capture more nuanced relationships between words."
      ],
      "metadata": {
        "id": "092bnf8PvKxu"
      }
    },
    {
      "cell_type": "code",
      "execution_count": null,
      "metadata": {
        "colab": {
          "background_save": true,
          "base_uri": "https://localhost:8080/"
        },
        "id": "ENDa3vw2ibE7",
        "outputId": "db99c07a-3edf-4523-e7ed-fad98cdd5fca"
      },
      "outputs": [
        {
          "name": "stdout",
          "output_type": "stream",
          "text": [
            "Training and evaluating Multinomial Naive Bayes model...\n",
            "Accuracy: 0.9422\n",
            "Precision: 0.9422\n",
            "Recall: 0.9422\n",
            "F1-score: 0.9422\n",
            "\n",
            "Training and evaluating Support Vector Machine model...\n",
            "Accuracy: 0.9919\n",
            "Precision: 0.9919\n",
            "Recall: 0.9919\n",
            "F1-score: 0.9919\n"
          ]
        }
      ],
      "source": [
        "from sklearn.naive_bayes import MultinomialNB\n",
        "from sklearn.linear_model import LogisticRegression\n",
        "from sklearn.svm import SVC\n",
        "# Define a function to train and evaluate a model\n",
        "def train_and_evaluate_model(model, X_train, y_train, X_test, y_test):\n",
        "    # Train the model on the training data\n",
        "    model.fit(X_train, y_train)\n",
        "\n",
        "    # Predict the labels for the testing data\n",
        "    y_pred = model.predict(X_test)\n",
        "\n",
        "    # Evaluate the model\n",
        "    accuracy = accuracy_score(y_test, y_pred)\n",
        "    precision = precision_score(y_test, y_pred, average='weighted')\n",
        "    recall = recall_score(y_test, y_pred, average='weighted')\n",
        "    f1 = f1_score(y_test, y_pred, average='weighted')\n",
        "\n",
        "    # Print the evaluation metrics\n",
        "    print(f\"Accuracy: {accuracy:.4f}\")\n",
        "    print(f\"Precision: {precision:.4f}\")\n",
        "    print(f\"Recall: {recall:.4f}\")\n",
        "    print(f\"F1-score: {f1:.4f}\")\n",
        "# Train and evaluate a Multinomial Naive Bayes model\n",
        "print(\"Training and evaluating Multinomial Naive Bayes model...\")\n",
        "nb = MultinomialNB()\n",
        "train_and_evaluate_model(nb, X_train, y_train, X_test, y_test)\n",
        "print()\n",
        "\n",
        "# Train and evaluate a Support Vector Machine model\n",
        "print(\"Training and evaluating Support Vector Machine model...\")\n",
        "svm = SVC()\n",
        "train_and_evaluate_model(svm,  X_train, y_train, X_test, y_test)"
      ]
    },
    {
      "cell_type": "markdown",
      "source": [
        "**Saving our model:**"
      ],
      "metadata": {
        "id": "z12-4-Q_vOc2"
      }
    },
    {
      "cell_type": "code",
      "source": [
        "from joblib import dump\n",
        "\n",
        "dump(clf, 'model.joblib')\n",
        "dump(vectorizer, 'vectorizer.joblib')"
      ],
      "metadata": {
        "colab": {
          "base_uri": "https://localhost:8080/"
        },
        "id": "kl3IkCmruLuh",
        "outputId": "acdf9d1e-9345-4809-bcbe-dcd4c8eb2b50"
      },
      "execution_count": null,
      "outputs": [
        {
          "output_type": "execute_result",
          "data": {
            "text/plain": [
              "['vectorizer.joblib']"
            ]
          },
          "metadata": {},
          "execution_count": 11
        }
      ]
    },
    {
      "cell_type": "markdown",
      "source": [
        "# **Model Deployment**\n",
        "\n",
        "Finally, we can deploy our model as a web application using the Flask framework. We will create a simple web form where users can input text, and the model will output whether the text is likely to be real or fake news."
      ],
      "metadata": {
        "id": "ocmaJAp0vS6O"
      }
    },
    {
      "cell_type": "code",
      "source": [
        "from flask import Flask, request, render_template\n",
        "from joblib import load\n",
        "from nltk.corpus import stopwords\n",
        "from nltk.tokenize import word_tokenize\n",
        "from nltk.stem import PorterStemmer, WordNetLemmatizer\n",
        "import string\n",
        "\n",
        "stop_words = set(stopwords.words('english'))\n",
        "stemmer = PorterStemmer()\n",
        "lemmatizer = WordNetLemmatizer()\n",
        "\n",
        "clf = load('model.joblib')\n",
        "vectorizer = load('vectorizer.joblib')\n",
        "def preprocess_text(text):\n",
        "    # Lowercase the text\n",
        "    text = text.lower()\n",
        "\n",
        "    # Remove punctuation and digits\n",
        "    text = text.translate(str.maketrans('', '', string.punctuation + string.digits))\n",
        "\n",
        "    # Tokenize the text\n",
        "    words = word_tokenize(text)\n",
        "\n",
        "    # Remove stop words\n",
        "    words = [word for word in words if word not in stop_words]\n",
        "\n",
        "    # Stem or lemmatize the words\n",
        "    words = [stemmer.stem(word) for word in words]\n",
        "\n",
        "        # Join the words back into a string\n",
        "    text = ' '.join(words)\n",
        "\n",
        "    return text\n",
        "\n",
        "\n",
        "app = Flask(__name__)\n",
        "\n",
        "@app.route('/')\n",
        "def home():\n",
        "    return render_template('home.html')\n",
        "\n",
        "@app.route('/predict', methods=['POST'])\n",
        "def predict():\n",
        "    text = request.form['text']\n",
        "    preprocessed_text = preprocess_text(text)\n",
        "    X = vectorizer.transform([preprocessed_text])\n",
        "    y_pred = clf.predict(X)\n",
        "    if y_pred[0]== 1:\n",
        "        result = 'real'\n",
        "    else:\n",
        "        result = 'fake'\n",
        "    return render_template('result.html', result=result, text=text)\n",
        "\n",
        "if __name__ == '__main__':\n",
        "    app.run(debug=True)"
      ],
      "metadata": {
        "colab": {
          "base_uri": "https://localhost:8080/"
        },
        "id": "QlgkGTi-uWvn",
        "outputId": "a0778cdf-0fe6-4404-eaa4-028c52088f3d"
      },
      "execution_count": null,
      "outputs": [
        {
          "metadata": {
            "tags": null
          },
          "name": "stdout",
          "output_type": "stream",
          "text": [
            " * Serving Flask app '__main__'\n",
            " * Debug mode: on\n"
          ]
        },
        {
          "metadata": {
            "tags": null
          },
          "name": "stderr",
          "output_type": "stream",
          "text": [
            "INFO:werkzeug:\u001b[31m\u001b[1mWARNING: This is a development server. Do not use it in a production deployment. Use a production WSGI server instead.\u001b[0m\n",
            " * Running on http://127.0.0.1:5000\n",
            "INFO:werkzeug:\u001b[33mPress CTRL+C to quit\u001b[0m\n",
            "INFO:werkzeug: * Restarting with stat\n"
          ]
        }
      ]
    }
  ],
  "metadata": {
    "colab": {
      "provenance": [],
      "authorship_tag": "ABX9TyPc9gYwOOwrdrw0ycyZz9HT",
      "include_colab_link": true
    },
    "kernelspec": {
      "display_name": "Python 3",
      "name": "python3"
    },
    "language_info": {
      "name": "python"
    }
  },
  "nbformat": 4,
  "nbformat_minor": 0
}